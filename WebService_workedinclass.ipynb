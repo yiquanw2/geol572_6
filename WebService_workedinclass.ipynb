{
  "nbformat": 4,
  "nbformat_minor": 0,
  "metadata": {
    "colab": {
      "name": "Untitled0.ipynb",
      "provenance": [],
      "authorship_tag": "ABX9TyPYS2svEOOij1DVy9k+JX1z",
      "include_colab_link": true
    },
    "kernelspec": {
      "name": "python3",
      "display_name": "Python 3"
    }
  },
  "cells": [
    {
      "cell_type": "markdown",
      "metadata": {
        "id": "view-in-github",
        "colab_type": "text"
      },
      "source": [
        "<a href=\"https://colab.research.google.com/github/yiquanw2/geol572_6/blob/master/WebService_workedinclass.ipynb\" target=\"_parent\"><img src=\"https://colab.research.google.com/assets/colab-badge.svg\" alt=\"Open In Colab\"/></a>"
      ]
    },
    {
      "cell_type": "markdown",
      "metadata": {
        "id": "KapeqXMQD6Wl",
        "colab_type": "text"
      },
      "source": [
        "#Reading data from online web services"
      ]
    },
    {
      "cell_type": "code",
      "metadata": {
        "id": "s-QKibX2Mbw4",
        "colab_type": "code",
        "colab": {}
      },
      "source": [
        "import urllib\n",
        "import json"
      ],
      "execution_count": 0,
      "outputs": []
    },
    {
      "cell_type": "code",
      "metadata": {
        "id": "jQ7dQrOXDuoI",
        "colab_type": "code",
        "colab": {
          "base_uri": "https://localhost:8080/",
          "height": 34
        },
        "outputId": "7c49182a-5808-447a-8554-87b0df85eea6"
      },
      "source": [
        "# Eaxample dictionary: Big Ten Football Champions\n",
        "B10Champs = {'2014': ['Ohio State','14-1'], '2015': ['Michigan State','12-2'], '2016': ['Penn State','11-3'], '2017': ['Ohio State','12-2'], '2018': ['Ohio State','13-1']}\n",
        "print(B10Champs)"
      ],
      "execution_count": 2,
      "outputs": [
        {
          "output_type": "stream",
          "text": [
            "{'2014': ['Ohio State', '14-1'], '2015': ['Michigan State', '12-2'], '2016': ['Penn State', '11-3'], '2017': ['Ohio State', '12-2'], '2018': ['Ohio State', '13-1']}\n"
          ],
          "name": "stdout"
        }
      ]
    },
    {
      "cell_type": "code",
      "metadata": {
        "id": "5Q6lgJOZFduP",
        "colab_type": "code",
        "colab": {
          "base_uri": "https://localhost:8080/",
          "height": 34
        },
        "outputId": "b2eaee18-7b99-42d4-a18d-bd656d7d2d5d"
      },
      "source": [
        "print(B10Champs['2014'])"
      ],
      "execution_count": 3,
      "outputs": [
        {
          "output_type": "stream",
          "text": [
            "['Ohio State', '14-1']\n"
          ],
          "name": "stdout"
        }
      ]
    },
    {
      "cell_type": "code",
      "metadata": {
        "id": "QoftluCZF3dM",
        "colab_type": "code",
        "colab": {
          "base_uri": "https://localhost:8080/",
          "height": 102
        },
        "outputId": "b9c2c2ef-e20d-49a9-af1d-7bf01af305ca"
      },
      "source": [
        "for key, value in B10Champs.items():\n",
        "  print('The',key,'Big 10 Football champion was',value[0],'with a record of',value[1])"
      ],
      "execution_count": 4,
      "outputs": [
        {
          "output_type": "stream",
          "text": [
            "The 2014 Big 10 Football champion was Ohio State with a record of 14-1\n",
            "The 2015 Big 10 Football champion was Michigan State with a record of 12-2\n",
            "The 2016 Big 10 Football champion was Penn State with a record of 11-3\n",
            "The 2017 Big 10 Football champion was Ohio State with a record of 12-2\n",
            "The 2018 Big 10 Football champion was Ohio State with a record of 13-1\n"
          ],
          "name": "stdout"
        }
      ]
    },
    {
      "cell_type": "markdown",
      "metadata": {
        "id": "5kNLQiG2Hfvr",
        "colab_type": "text"
      },
      "source": [
        "#Obtaining real-time data from the USGS"
      ]
    },
    {
      "cell_type": "code",
      "metadata": {
        "id": "DzhzpLvvHkN9",
        "colab_type": "code",
        "colab": {
          "base_uri": "https://localhost:8080/",
          "height": 34
        },
        "outputId": "1de98f48-23b6-4ef5-e9cf-7c168baf782f"
      },
      "source": [
        "siteNum='413743089310102'\n",
        "USGSparameter='72019'\n",
        "period_of_days='500'\n",
        "\n",
        "url='https://waterservices.usgs.gov/nwis/iv/?format=json&sites=' + siteNum + '&period=P'+ period_of_days + 'D&parameterCd=' + USGSparameter + '&siteStatus=all'\n",
        "print(url)"
      ],
      "execution_count": 7,
      "outputs": [
        {
          "output_type": "stream",
          "text": [
            "https://waterservices.usgs.gov/nwis/iv/?format=json&sites=413743089310102&period=P500D&parameterCd=72019&siteStatus=all\n"
          ],
          "name": "stdout"
        }
      ]
    },
    {
      "cell_type": "code",
      "metadata": {
        "id": "o9bN-nVkMiI5",
        "colab_type": "code",
        "colab": {}
      },
      "source": [
        "# open the url\n",
        "response =urllib.request.urlopen(url)\n",
        "gw_data = json.loads(response.read())"
      ],
      "execution_count": 0,
      "outputs": []
    },
    {
      "cell_type": "code",
      "metadata": {
        "id": "aIv5QgmPNMPh",
        "colab_type": "code",
        "colab": {}
      },
      "source": [
        "print(response)"
      ],
      "execution_count": 0,
      "outputs": []
    }
  ]
}