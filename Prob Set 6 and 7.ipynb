{
  "nbformat": 4,
  "nbformat_minor": 0,
  "metadata": {
    "kernelspec": {
      "display_name": "Python 3 (system-wide)",
      "language": "python",
      "metadata": {
        "cocalc": {
          "description": "Python 3 programming language",
          "priority": 100,
          "url": "https://www.python.org/"
        }
      },
      "name": "python3"
    },
    "language_info": {
      "codemirror_mode": {
        "name": "ipython",
        "version": 3
      },
      "file_extension": ".py",
      "mimetype": "text/x-python",
      "name": "python",
      "nbconvert_exporter": "python",
      "pygments_lexer": "ipython3",
      "version": "3.6.9"
    },
    "colab": {
      "name": "Prob Set 6 and 7.ipynb",
      "provenance": []
    }
  },
  "cells": [
    {
      "cell_type": "markdown",
      "metadata": {
        "collapsed": false,
        "id": "-LRuOh2ZMjG2",
        "colab_type": "text"
      },
      "source": [
        "# <center>Problem Set 6</center>"
      ]
    },
    {
      "cell_type": "markdown",
      "metadata": {
        "collapsed": false,
        "id": "D6G93eD4MjG4",
        "colab_type": "text"
      },
      "source": [
        "## <center> Due March 12 at 10:00 pm"
      ]
    },
    {
      "cell_type": "markdown",
      "metadata": {
        "collapsed": false,
        "id": "rxCfzujEMjG6",
        "colab_type": "text"
      },
      "source": [
        "The McHenry County Water Resource Specialist is looking for new ways to view data that is being collected by the county. The USGS is currently collecting data in real-time for a number of wells in McHenry County. Your task in this assignment is to create a potentiometric surface, in real-time, of this data, as well as to look at a surface from summer of 2019 and compare the differences. <b>The wells you will be using for this assignment can be found in the Excel file 'gwmchenry_deep.xlsx'. The files contains columns that (respectively) contain USGS Site Number, Site Name, and Land Surface Elevation.</b>\n",
        "\n",
        "<i>Note that the code should take into account the possibility for outliers. In particular, think about what happens if your code includes 'NaN' head values (which can and likely will happen at some point over the next two weeks).</i>  \n",
        "\n",
        "###<center>Part I: Compile Data for Each Well</center>\n",
        "\n",
        "Using Python, create a Pandas DataFrame that contains the USGS Site Number as the index and columns showing: \n",
        "<ul>\n",
        "    <li>Site Name</li>\n",
        "    <li>Latitude</li>\n",
        "    <li>Longitude</li>\n",
        "    <li>Land Surface Elevation</li>\n",
        "    <li>Date-time of the most recent data point</li>\n",
        "    <li>Head (in ft above MSL) of the most recent data point</li>\n",
        "</ul>\n",
        "\n",
        "<b>Remember that the USGS web service will return depth to water. You need to convert this to a head.</b>\n",
        "\n",
        "### <center>Part II: Create maps from this data</center>\n",
        "\n",
        "Create maps showing the:\n",
        "<ul>\n",
        "    <li>Potentiometric surface for Summer 2019 (you may use 200 days prior to the most recent data point)</li>\n",
        "    <li>Potentiometric surface for today</li>\n",
        "    <li>Head difference (ft) between the two surfaces</li>\n",
        "</ul>\n",
        "\n",
        "Make sure that maps include the following:\n",
        "<ul>\n",
        "    <li>State boundaries</li>\n",
        "    <li>Contours with labels</li>\n",
        "    <li>A title with the date in a readable format</li>\n",
        "    <li>A color flood</li>\n",
        "    <li>A color bar</li>\n",
        "</ul>\n",
        "\n",
        "<b>You are responsible to search the internet and determine a  way to assign a color flood and color bar.</b>\n",
        "\n",
        "### <center>Part III: Comparison with a 2013 study</center>\n",
        "\n",
        "Conduct a qualitative analysis on the potentiometric surface generated in this assignment with the potentiometric surface generated in a 2013 study (see page 71, Figure 42 of the following report: https://www.ideals.illinois.edu/handle/2142/50040). Write a paragraph discussing these differences (qualitatively). Include an image of Figure 42 in your Jupyter Notebook, with a reference to the report."
      ]
    },
    {
      "cell_type": "code",
      "metadata": {
        "id": "qjc3jFhp6RR-",
        "colab_type": "code",
        "colab": {}
      },
      "source": [
        ""
      ],
      "execution_count": 0,
      "outputs": []
    },
    {
      "cell_type": "code",
      "metadata": {
        "id": "6oxUU6u_MjG7",
        "colab_type": "code",
        "outputId": "9d35e049-8432-4f7e-fdd2-6df3e6d5a0a2",
        "colab": {
          "base_uri": "https://localhost:8080/",
          "height": 599
        }
      },
      "source": [
        "df = pd.read_excel('https://github.com/dbabrams/Week6PotSurface\\\n",
        "/blob/master/gwmchenry_deep.xlsx?raw=true', index_col=0)\n",
        "for index, row in df.iterrows():\n",
        "  siteNum=str(index)\n",
        "  # URL with streamflow/groundwater data from the USGS\n",
        "  url = 'https://waterservices.usgs.gov/nwis/iv/?format=json&sites='\\\n",
        "  + siteNum + '&parameterCd=72019&siteStatus=all'\n",
        "  #open the URL\n",
        "  response = urllib.request.urlopen(url)\n",
        "  # read the data in as a dictionary\n",
        "  gw_data = json.loads(response.read())\n",
        "  df.loc[index,'Latitude']=gw_data['value']['timeSeries'][0]['sourceInfo']['geoLocation']['geogLocation']['latitude']\n",
        "  df.loc[index,'Longitude']=gw_data['value']['timeSeries'][0]['sourceInfo']['geoLocation']['geogLocation']['longitude']\n",
        "  df.loc[index,'Date-Time']=pd.to_datetime(gw_data['value']['timeSeries'][0]['values'][0]['value'][0]['dateTime'])\n",
        "  df.loc[index,'Head']=df.loc[index,'elevation']-float(gw_data['value']['timeSeries'][0]['values'][0]['value'][0]['value'])\n",
        "print(df)"
      ],
      "execution_count": 85,
      "outputs": [
        {
          "output_type": "stream",
          "text": [
            "                                                   SiteName  ...        Head\n",
            "SiteNum                                                      ...            \n",
            "421056088380801                    43N5E-27.4h1 (14-RIL-S)   ...      800.25\n",
            "421120088281801                   43N7E-19.8d (HUNT-09-03)   ...      853.95\n",
            "421122088222702                    43N7E-23.1d2 (16-GRF-D)   ...      859.79\n",
            "421145088194802                    43N8E-20.6h2 (17-ALG-D)   ...      779.52\n",
            "421321088341101                   43N6E-07.1g (MARS-09-01)   ...      859.36\n",
            "421341088283703                    43N6E-01.3b3 (15-COR-D)   ...      842.98\n",
            "421533088421801   44N5E-30.8c1 (10-MAR-S) (McHenry Co CRN)   ...      777.11\n",
            "421547088142301                   44N9E-25.1d (WAUC-02-12)   ...      745.84\n",
            "421626088311401                    44N6E-22.4c1 (11-SEN-I)   ...      827.31\n",
            "421653088370901                   44N5E-23.5g (MARN-09-02)   ...      811.20\n",
            "421653088370902                  44N5E-23.5g2 (MARN-10-03)   ...      801.83\n",
            "421747088270701                  44N7E-17.8h1 (WOOD-08-01)   ...      869.20\n",
            "421820088154501                    44N8E-11.3d1 (13-NUN-I)   ...      739.37\n",
            "421914088125301                  44N9E-05.7d1 (WAUC-08-13)   ...      746.72\n",
            "422032088222001                   45N7E-25.7a (MHEN-08-01)   ...      827.41\n",
            "422120088330901                   45N6E-29.1h (MARN-09-01)   ...      878.10\n",
            "422142088303103                     45N6E-23.7d3 (7-HRT-D)   ...      891.42\n",
            "422308088195602                     45N8E-17.7h2 (9-MCH-D)   ...      811.33\n",
            "422308088231002                     45N7E-11.5a2 (8-GRN-D)   ...      841.29\n",
            "422308088264201                   45N7E-08.5a (HEBR-08-02)   ...      888.17\n",
            "422358088360201                   45N5E-12.5h (HARV-09-01)   ...  1000941.00\n",
            "422433088140601                    45N9E-06.7e (NW-6-45-9)   ...      829.78\n",
            "422704088385301                     46N5E-21.1d1 (1-CHE-S)   ...      889.99\n",
            "422828088333301                     46N6E-08.46l (2-ALD-D)   ...      964.39\n",
            "422845088285401                   46N6E-12.5d (HEBR-09-03)   ...      927.37\n",
            "422848088191002                     46N8E-08.2e2 (4-RCH-I)   ...      836.46\n",
            "422858088235601                   46N7E-10.2f (HEBR-08-01)   ...      873.02\n",
            "422925088255401                     46N7E-04.8b1 (3-HEB-I)   ...      881.27\n",
            "\n",
            "[28 rows x 6 columns]\n"
          ],
          "name": "stdout"
        }
      ]
    },
    {
      "cell_type": "code",
      "metadata": {
        "id": "fXJf56hQ_r4l",
        "colab_type": "code",
        "colab": {
          "base_uri": "https://localhost:8080/",
          "height": 563
        },
        "outputId": "8f76b056-7461-4c27-8606-43a8c3ed3893"
      },
      "source": [
        "print(df[['elevation','Date-Time','Head']])"
      ],
      "execution_count": 93,
      "outputs": [
        {
          "output_type": "stream",
          "text": [
            "                 elevation                  Date-Time        Head\n",
            "SiteNum                                                          \n",
            "421056088380801     806.75  2020-03-25 21:15:00-06:00      800.25\n",
            "421120088281801     878.00  2020-03-25 21:00:00-06:00      853.95\n",
            "421122088222702     879.51  2020-03-25 21:00:00-06:00      859.79\n",
            "421145088194802     880.03  2020-03-25 21:00:00-06:00      779.52\n",
            "421321088341101     928.00  2020-03-25 21:00:00-06:00      859.36\n",
            "421341088283703     851.23  2020-03-25 21:00:00-06:00      842.98\n",
            "421533088421801     780.93  2020-03-25 21:00:00-06:00      777.11\n",
            "421547088142301     835.00  2020-03-25 21:30:00-06:00      745.84\n",
            "421626088311401     830.63  2020-03-25 21:00:00-06:00      827.31\n",
            "421653088370901     827.00  2020-03-25 21:00:00-06:00      811.20\n",
            "421653088370902     828.00  2020-03-25 21:00:00-06:00      801.83\n",
            "421747088270701     943.00  2020-03-25 21:00:00-06:00      869.20\n",
            "421820088154501     785.32  2020-03-25 21:45:00-06:00      739.37\n",
            "421914088125301     766.00  2020-03-25 21:45:00-06:00      746.72\n",
            "422032088222001     860.00  2020-03-25 21:00:00-06:00      827.41\n",
            "422120088330901     909.00  2020-03-25 21:15:00-06:00      878.10\n",
            "422142088303103     924.14  2020-03-25 21:15:00-06:00      891.42\n",
            "422308088195602     863.18  2020-03-25 21:00:00-06:00      811.33\n",
            "422308088231002     855.97  2020-03-25 21:00:00-06:00      841.29\n",
            "422308088264201     898.00  2020-03-25 21:00:00-06:00      888.17\n",
            "422358088360201     942.00  2020-03-25 21:00:00-06:00  1000941.00\n",
            "422433088140601     855.00  2020-03-25 21:00:00-06:00      829.78\n",
            "422704088385301     896.24  2020-03-25 21:00:00-06:00      889.99\n",
            "422828088333301    1176.35  2020-03-25 21:00:00-06:00      964.39\n",
            "422845088285401     949.00  2020-03-25 21:00:00-06:00      927.37\n",
            "422848088191002     844.15  2020-03-25 21:30:00-06:00      836.46\n",
            "422858088235601     898.00  2020-03-25 21:15:00-06:00      873.02\n",
            "422925088255401     867.93  2020-03-25 21:15:00-06:00      881.27\n"
          ],
          "name": "stdout"
        }
      ]
    }
  ]
}