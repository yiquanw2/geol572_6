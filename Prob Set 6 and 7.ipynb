{
  "nbformat": 4,
  "nbformat_minor": 0,
  "metadata": {
    "kernelspec": {
      "display_name": "Python 3 (system-wide)",
      "language": "python",
      "metadata": {
        "cocalc": {
          "description": "Python 3 programming language",
          "priority": 100,
          "url": "https://www.python.org/"
        }
      },
      "name": "python3"
    },
    "language_info": {
      "codemirror_mode": {
        "name": "ipython",
        "version": 3
      },
      "file_extension": ".py",
      "mimetype": "text/x-python",
      "name": "python",
      "nbconvert_exporter": "python",
      "pygments_lexer": "ipython3",
      "version": "3.6.9"
    },
    "colab": {
      "name": "Prob Set 6 and 7.ipynb",
      "provenance": []
    }
  },
  "cells": [
    {
      "cell_type": "markdown",
      "metadata": {
        "collapsed": false,
        "id": "-LRuOh2ZMjG2",
        "colab_type": "text"
      },
      "source": [
        "# <center>Problem Set 4</center>"
      ]
    },
    {
      "cell_type": "markdown",
      "metadata": {
        "collapsed": false,
        "id": "D6G93eD4MjG4",
        "colab_type": "text"
      },
      "source": [
        "## <center> Due March 12 at 10:00 pm"
      ]
    },
    {
      "cell_type": "markdown",
      "metadata": {
        "collapsed": false,
        "id": "rxCfzujEMjG6",
        "colab_type": "text"
      },
      "source": [
        "The McHenry County Water Resource Specialist is looking for new ways to view data that is being collected by the county. The USGS is currently collecting data in real-time for a number of wells in McHenry County. Your task in this assignment is to create a potentiometric surface, in real-time, of this data, as well as to look at a surface from summer of 2019 and compare the differences. <b>The wells you will be using for this assignment can be found in the Excel file 'gwmchenry_deep.xlsx'. The files contains columns that (respectively) contain USGS Site Number, Site Name, and Land Surface Elevation.</b>\n",
        "\n",
        "<i>Note that the code should take into account the possibility for outliers. In particular, think about what happens if your code includes 'NaN' head values (which can and likely will happen at some point over the next two weeks).</i>  \n",
        "\n",
        "###<center>Part I: Compile Data for Each Well</center>\n",
        "\n",
        "Using Python, create a Pandas DataFrame that contains the USGS Site Number as the index and columns showing: \n",
        "<ul>\n",
        "    <li>Site Name</li>\n",
        "    <li>Latitude</li>\n",
        "    <li>Longitude</li>\n",
        "    <li>Land Surface Elevation</li>\n",
        "    <li>Date-time of the most recent data point</li>\n",
        "    <li>Head (in ft above MSL) of the most recent data point</li>\n",
        "</ul>\n",
        "\n",
        "<b>Remember that the USGS web service will return depth to water. You need to convert this to a head.</b>\n",
        "\n",
        "### <center>Part II: Create maps from this data</center>\n",
        "\n",
        "Create maps showing the:\n",
        "<ul>\n",
        "    <li>Potentiometric surface for Summer 2019 (you may use 200 days prior to the most recent data point)</li>\n",
        "    <li>Potentiometric surface for today</li>\n",
        "    <li>Head difference (ft) between the two surfaces</li>\n",
        "</ul>\n",
        "\n",
        "Make sure that maps include the following:\n",
        "<ul>\n",
        "    <li>State boundaries</li>\n",
        "    <li>Contours with labels</li>\n",
        "    <li>A title with the date in a readable format</li>\n",
        "    <li>A color flood</li>\n",
        "    <li>A color bar</li>\n",
        "</ul>\n",
        "\n",
        "<b>You are responsible to search the internet and determine a  way to assign a color flood and color bar.</b>\n",
        "\n",
        "### <center>Part III: Comparison with a 2013 study</center>\n",
        "\n",
        "Conduct a qualitative analysis on the potentiometric surface generated in this assignment with the potentiometric surface generated in a 2013 study (see page 71, Figure 42 of the following report: https://www.ideals.illinois.edu/handle/2142/50040). Write a paragraph discussing these differences (qualitatively). Include an image of Figure 42 in your Jupyter Notebook, with a reference to the report."
      ]
    },
    {
      "cell_type": "code",
      "metadata": {
        "id": "6oxUU6u_MjG7",
        "colab_type": "code",
        "outputId": "95f68773-2624-4985-b0ee-d6eae8211a05",
        "colab": {
          "base_uri": "https://localhost:8080/",
          "height": 581
        }
      },
      "source": [
        "import pandas as pd\n",
        "df = pd.read_excel('https://github.com/dbabrams/Week6PotSurface/blob/master/gwmchenry_deep.xlsx?raw=true', index_col=0)\n",
        "\n",
        "# df['Latitude']=df['SiteName'].apply(lambda x:x[:4])\n",
        "# df['Longitude']=df['SiteName'].apply(lambda x:x[4:6])\n",
        "# df=df.drop(['SiteName'],1)\n",
        "print(df)\n",
        "type(df)"
      ],
      "execution_count": 13,
      "outputs": [
        {
          "output_type": "stream",
          "text": [
            "                                                   SiteName  elevation\n",
            "SiteNum                                                               \n",
            "421056088380801                    43N5E-27.4h1 (14-RIL-S)      806.75\n",
            "421120088281801                   43N7E-19.8d (HUNT-09-03)      878.00\n",
            "421122088222702                    43N7E-23.1d2 (16-GRF-D)      879.51\n",
            "421145088194802                    43N8E-20.6h2 (17-ALG-D)      880.03\n",
            "421321088341101                   43N6E-07.1g (MARS-09-01)      928.00\n",
            "421341088283703                    43N6E-01.3b3 (15-COR-D)      851.23\n",
            "421533088421801   44N5E-30.8c1 (10-MAR-S) (McHenry Co CRN)      780.93\n",
            "421547088142301                   44N9E-25.1d (WAUC-02-12)      835.00\n",
            "421626088311401                    44N6E-22.4c1 (11-SEN-I)      830.63\n",
            "421653088370901                   44N5E-23.5g (MARN-09-02)      827.00\n",
            "421653088370902                  44N5E-23.5g2 (MARN-10-03)      828.00\n",
            "421747088270701                  44N7E-17.8h1 (WOOD-08-01)      943.00\n",
            "421820088154501                    44N8E-11.3d1 (13-NUN-I)      785.32\n",
            "421914088125301                  44N9E-05.7d1 (WAUC-08-13)      766.00\n",
            "422032088222001                   45N7E-25.7a (MHEN-08-01)      860.00\n",
            "422120088330901                   45N6E-29.1h (MARN-09-01)      909.00\n",
            "422142088303103                     45N6E-23.7d3 (7-HRT-D)      924.14\n",
            "422308088195602                     45N8E-17.7h2 (9-MCH-D)      863.18\n",
            "422308088231002                     45N7E-11.5a2 (8-GRN-D)      855.97\n",
            "422308088264201                   45N7E-08.5a (HEBR-08-02)      898.00\n",
            "422358088360201                   45N5E-12.5h (HARV-09-01)      942.00\n",
            "422433088140601                    45N9E-06.7e (NW-6-45-9)      855.00\n",
            "422704088385301                     46N5E-21.1d1 (1-CHE-S)      896.24\n",
            "422828088333301                     46N6E-08.46l (2-ALD-D)     1176.35\n",
            "422845088285401                   46N6E-12.5d (HEBR-09-03)      949.00\n",
            "422848088191002                     46N8E-08.2e2 (4-RCH-I)      844.15\n",
            "422858088235601                   46N7E-10.2f (HEBR-08-01)      898.00\n",
            "422925088255401                     46N7E-04.8b1 (3-HEB-I)      867.93\n"
          ],
          "name": "stdout"
        },
        {
          "output_type": "execute_result",
          "data": {
            "text/plain": [
              "pandas.core.frame.DataFrame"
            ]
          },
          "metadata": {
            "tags": []
          },
          "execution_count": 13
        }
      ]
    }
  ]
}