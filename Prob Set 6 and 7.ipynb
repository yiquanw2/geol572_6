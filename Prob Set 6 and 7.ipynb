{
  "nbformat": 4,
  "nbformat_minor": 0,
  "metadata": {
    "kernelspec": {
      "display_name": "Python 3 (system-wide)",
      "language": "python",
      "metadata": {
        "cocalc": {
          "description": "Python 3 programming language",
          "priority": 100,
          "url": "https://www.python.org/"
        }
      },
      "name": "python3"
    },
    "language_info": {
      "codemirror_mode": {
        "name": "ipython",
        "version": 3
      },
      "file_extension": ".py",
      "mimetype": "text/x-python",
      "name": "python",
      "nbconvert_exporter": "python",
      "pygments_lexer": "ipython3",
      "version": "3.6.9"
    },
    "colab": {
      "name": "Prob Set 6 and 7.ipynb",
      "provenance": []
    }
  },
  "cells": [
    {
      "cell_type": "markdown",
      "metadata": {
        "collapsed": false,
        "id": "-LRuOh2ZMjG2",
        "colab_type": "text"
      },
      "source": [
        "# <center>Problem Set 6</center>"
      ]
    },
    {
      "cell_type": "markdown",
      "metadata": {
        "collapsed": false,
        "id": "D6G93eD4MjG4",
        "colab_type": "text"
      },
      "source": [
        "## <center> Due March 12 at 10:00 pm"
      ]
    },
    {
      "cell_type": "markdown",
      "metadata": {
        "collapsed": false,
        "id": "rxCfzujEMjG6",
        "colab_type": "text"
      },
      "source": [
        "The McHenry County Water Resource Specialist is looking for new ways to view data that is being collected by the county. The USGS is currently collecting data in real-time for a number of wells in McHenry County. Your task in this assignment is to create a potentiometric surface, in real-time, of this data, as well as to look at a surface from summer of 2019 and compare the differences. <b>The wells you will be using for this assignment can be found in the Excel file 'gwmchenry_deep.xlsx'. The files contains columns that (respectively) contain USGS Site Number, Site Name, and Land Surface Elevation.</b>\n",
        "\n",
        "<i>Note that the code should take into account the possibility for outliers. In particular, think about what happens if your code includes 'NaN' head values (which can and likely will happen at some point over the next two weeks).</i>  \n",
        "\n",
        "###<center>Part I: Compile Data for Each Well</center>\n",
        "\n",
        "Using Python, create a Pandas DataFrame that contains the USGS Site Number as the index and columns showing: \n",
        "<ul>\n",
        "    <li>Site Name</li>\n",
        "    <li>Latitude</li>\n",
        "    <li>Longitude</li>\n",
        "    <li>Land Surface Elevation</li>\n",
        "    <li>Date-time of the most recent data point</li>\n",
        "    <li>Head (in ft above MSL) of the most recent data point</li>\n",
        "</ul>\n",
        "\n",
        "<b>Remember that the USGS web service will return depth to water. You need to convert this to a head.</b>\n",
        "\n",
        "### <center>Part II: Create maps from this data</center>\n",
        "\n",
        "Create maps showing the:\n",
        "<ul>\n",
        "    <li>Potentiometric surface for Summer 2019 (you may use 200 days prior to the most recent data point)</li>\n",
        "    <li>Potentiometric surface for today</li>\n",
        "    <li>Head difference (ft) between the two surfaces</li>\n",
        "</ul>\n",
        "\n",
        "Make sure that maps include the following:\n",
        "<ul>\n",
        "    <li>State boundaries</li>\n",
        "    <li>Contours with labels</li>\n",
        "    <li>A title with the date in a readable format</li>\n",
        "    <li>A color flood</li>\n",
        "    <li>A color bar</li>\n",
        "</ul>\n",
        "\n",
        "<b>You are responsible to search the internet and determine a  way to assign a color flood and color bar.</b>\n",
        "\n",
        "### <center>Part III: Comparison with a 2013 study</center>\n",
        "\n",
        "Conduct a qualitative analysis on the potentiometric surface generated in this assignment with the potentiometric surface generated in a 2013 study (see page 71, Figure 42 of the following report: https://www.ideals.illinois.edu/handle/2142/50040). Write a paragraph discussing these differences (qualitatively). Include an image of Figure 42 in your Jupyter Notebook, with a reference to the report."
      ]
    },
    {
      "cell_type": "code",
      "metadata": {
        "id": "-0swz6XWAw0I",
        "colab_type": "code",
        "colab": {}
      },
      "source": [
        "# CoLab recommends to run the following two lines of code to import cartopy. \n",
        "#You will likely need to reinstall each time you log into CoLab, but it doesn't take too long. \n",
        "#You can keep running this even after installed, because it will recognize the install quickly.\n",
        "!apt-get -qq install python-cartopy python3-cartopy\n",
        "import cartopy\n",
        "\n",
        "# And here we install pykrige. Note that this differs from a normal pip install in that it requires a leading \"!\"\n",
        "!pip install pykrige"
      ],
      "execution_count": 0,
      "outputs": []
    },
    {
      "cell_type": "code",
      "metadata": {
        "id": "qjc3jFhp6RR-",
        "colab_type": "code",
        "colab": {}
      },
      "source": [
        "import matplotlib.pyplot as plt\n",
        "%matplotlib inline\n",
        "import pandas as pd\n",
        "# import data from online\n",
        "import urllib, json\n",
        "from datetime import datetime\n",
        "import pylab  # using as a plotting library for spatial data (looking at the contours)\n",
        "import numpy as np # array package \n",
        "\n",
        "# import cartopy, which we will use to map\n",
        "import cartopy.crs as ccrs                   # import projections\n",
        "import cartopy.feature as cf                 # import features\n",
        "\n",
        "\n",
        "# import the UniversalKriging function from pykrige.uk \n",
        "from pykrige.uk import UniversalKriging"
      ],
      "execution_count": 0,
      "outputs": []
    },
    {
      "cell_type": "code",
      "metadata": {
        "id": "6oxUU6u_MjG7",
        "colab_type": "code",
        "outputId": "efa64725-03e8-48f7-c8b9-fc58effce137",
        "colab": {
          "base_uri": "https://localhost:8080/",
          "height": 581
        }
      },
      "source": [
        "df = pd.read_excel('https://github.com/dbabrams/Week6PotSurface\\\n",
        "/blob/master/gwmchenry_deep.xlsx?raw=true', index_col=0)\n",
        "for index, row in df.iterrows():\n",
        "  siteNum=str(index)\n",
        "  # URL with streamflow/groundwater data from the USGS\n",
        "  url = 'https://waterservices.usgs.gov/nwis/iv/?format=json&sites='\\\n",
        "  + siteNum + '&parameterCd=72019&siteStatus=all'\n",
        "  #open the URL\n",
        "  response = urllib.request.urlopen(url)\n",
        "  # read the data in as a dictionary\n",
        "  gw_data = json.loads(response.read())\n",
        "  df.loc[index,'Latitude']=gw_data['value']['timeSeries'][0]['sourceInfo']['geoLocation']['geogLocation']['latitude']\n",
        "  df.loc[index,'Longitude']=gw_data['value']['timeSeries'][0]['sourceInfo']['geoLocation']['geogLocation']['longitude']\n",
        "  df.loc[index,'Date-Time']=pd.to_datetime(gw_data['value']['timeSeries'][0]['values'][0]['value'][0]['dateTime'])\n",
        "  df.loc[index,'Head']=df.loc[index,'elevation']-float(gw_data['value']['timeSeries'][0]['values'][0]['value'][0]['value'])\n",
        "  df = df.drop(df[df['Head'] > 3000].index)\n",
        "print(df)"
      ],
      "execution_count": 8,
      "outputs": [
        {
          "output_type": "stream",
          "text": [
            "                                                   SiteName  ...    Head\n",
            "SiteNum                                                      ...        \n",
            "421056088380801                    43N5E-27.4h1 (14-RIL-S)   ...  800.22\n",
            "421120088281801                   43N7E-19.8d (HUNT-09-03)   ...  853.94\n",
            "421122088222702                    43N7E-23.1d2 (16-GRF-D)   ...  859.73\n",
            "421145088194802                    43N8E-20.6h2 (17-ALG-D)   ...  778.77\n",
            "421321088341101                   43N6E-07.1g (MARS-09-01)   ...  859.30\n",
            "421341088283703                    43N6E-01.3b3 (15-COR-D)   ...  842.96\n",
            "421533088421801   44N5E-30.8c1 (10-MAR-S) (McHenry Co CRN)   ...  776.99\n",
            "421547088142301                   44N9E-25.1d (WAUC-02-12)   ...  745.54\n",
            "421626088311401                    44N6E-22.4c1 (11-SEN-I)   ...  827.26\n",
            "421653088370901                   44N5E-23.5g (MARN-09-02)   ...  811.25\n",
            "421653088370902                  44N5E-23.5g2 (MARN-10-03)   ...  801.99\n",
            "421747088270701                  44N7E-17.8h1 (WOOD-08-01)   ...  869.20\n",
            "421820088154501                    44N8E-11.3d1 (13-NUN-I)   ...  739.10\n",
            "421914088125301                  44N9E-05.7d1 (WAUC-08-13)   ...  746.70\n",
            "422032088222001                   45N7E-25.7a (MHEN-08-01)   ...  827.41\n",
            "422120088330901                   45N6E-29.1h (MARN-09-01)   ...  878.08\n",
            "422142088303103                     45N6E-23.7d3 (7-HRT-D)   ...  891.38\n",
            "422308088195602                     45N8E-17.7h2 (9-MCH-D)   ...  811.36\n",
            "422308088231002                     45N7E-11.5a2 (8-GRN-D)   ...  841.30\n",
            "422308088264201                   45N7E-08.5a (HEBR-08-02)   ...  888.14\n",
            "422433088140601                    45N9E-06.7e (NW-6-45-9)   ...  829.66\n",
            "422704088385301                     46N5E-21.1d1 (1-CHE-S)   ...  889.81\n",
            "422828088333301                     46N6E-08.46l (2-ALD-D)   ...  964.63\n",
            "422845088285401                   46N6E-12.5d (HEBR-09-03)   ...  927.33\n",
            "422848088191002                     46N8E-08.2e2 (4-RCH-I)   ...  836.53\n",
            "422858088235601                   46N7E-10.2f (HEBR-08-01)   ...  872.98\n",
            "422925088255401                     46N7E-04.8b1 (3-HEB-I)   ...  881.26\n",
            "\n",
            "[27 rows x 6 columns]\n"
          ],
          "name": "stdout"
        }
      ]
    },
    {
      "cell_type": "code",
      "metadata": {
        "id": "fXJf56hQ_r4l",
        "colab_type": "code",
        "outputId": "763bc12e-26ba-4ff6-d677-65d715d3a32b",
        "colab": {
          "base_uri": "https://localhost:8080/",
          "height": 563
        }
      },
      "source": [
        "print(df[['Latitude','Longitude']])"
      ],
      "execution_count": 10,
      "outputs": [
        {
          "output_type": "stream",
          "text": [
            "ERROR! Session/line number was not unique in database. History logging moved to new session 60\n",
            "                  Latitude  Longitude\n",
            "SiteNum                              \n",
            "421056088380801  42.182222 -88.635556\n",
            "421120088281801  42.188872 -88.471706\n",
            "421122088222702  42.189444 -88.374444\n",
            "421145088194802  42.195833 -88.330000\n",
            "421321088341101  42.222517 -88.569769\n",
            "421341088283703  42.228056 -88.476944\n",
            "421533088421801  42.259167 -88.705000\n",
            "421547088142301  42.263167 -88.239750\n",
            "421626088311401  42.273889 -88.520556\n",
            "421653088370901  42.281378 -88.619247\n",
            "421653088370902  42.281378 -88.619247\n",
            "421747088270701  42.296419 -88.451942\n",
            "421820088154501  42.305556 -88.262500\n",
            "421914088125301  42.320647 -88.214758\n",
            "422032088222001  42.342336 -88.372353\n",
            "422120088330901  42.355561 -88.552367\n",
            "422142088303103  42.361667 -88.508611\n",
            "422308088195602  42.385556 -88.332222\n",
            "422308088231002  42.385556 -88.386111\n",
            "422308088264201  42.385464 -88.444908\n",
            "422433088140601  42.409133 -88.235017\n",
            "422704088385301  42.451111 -88.648056\n",
            "422828088333301  42.474444 -88.559167\n",
            "422845088285401  42.479122 -88.481625\n",
            "422848088191002  42.480000 -88.319444\n",
            "422858088235601  42.482881 -88.398844\n",
            "422925088255401  42.490278 -88.431667\n"
          ],
          "name": "stdout"
        }
      ]
    },
    {
      "cell_type": "code",
      "metadata": {
        "id": "TDkRHyzPh-aW",
        "colab_type": "code",
        "colab": {
          "base_uri": "https://localhost:8080/",
          "height": 35
        },
        "outputId": "5ba2e2ce-2a7a-44b4-e000-baea2f9f6606"
      },
      "source": [
        "UK = UniversalKriging(df['Longitude'], df['Latitude'], df['Head'], variogram_model='spherical',nlags=6)\n",
        "print(UK) "
      ],
      "execution_count": 9,
      "outputs": [
        {
          "output_type": "stream",
          "text": [
            "<pykrige.uk.UniversalKriging object at 0x7f4ba79f11d0>\n"
          ],
          "name": "stdout"
        }
      ]
    },
    {
      "cell_type": "code",
      "metadata": {
        "id": "j7tjc45Pl50C",
        "colab_type": "code",
        "colab": {
          "base_uri": "https://localhost:8080/",
          "height": 254
        },
        "outputId": "4d5735a3-10b7-4e42-edc3-9cb1c564dc7c"
      },
      "source": [
        "# define the area over which to plot data\n",
        "minlat = 42\n",
        "maxlat = 42.5\n",
        "minlong = -88.8\n",
        "maxlong = -88\n",
        "# create xpoints and ypoints in space, with 0.01 spacing\n",
        "xpoints = np.arange(minlong,maxlong,0.01)\n",
        "ypoints = np.arange(minlat,maxlat,0.01)\n",
        "\n",
        "# create a meshgrid with xpoints and ypoints, to be used later in the code\n",
        "X,Y = np.meshgrid(xpoints,ypoints)\n",
        "\n",
        "# calculate the interpolated grid and fill values.\n",
        "z, var = UK.execute('grid', xpoints,ypoints)\n",
        "z = z.filled(fill_value=None)\n",
        "print(z)"
      ],
      "execution_count": 13,
      "outputs": [
        {
          "output_type": "stream",
          "text": [
            "[[827.29407819 827.28093601 827.32923112 ... 834.73628918 835.39964016\n",
            "  835.77541185]\n",
            " [826.42865597 826.38153903 826.26753489 ... 834.02025257 834.95539239\n",
            "  835.55458128]\n",
            " [825.47045625 825.26741722 824.97616746 ... 833.02337215 834.27898479\n",
            "  835.16352627]\n",
            " ...\n",
            " [840.02245535 842.06725191 844.35342462 ... 843.15109182 843.20328019\n",
            "  843.18063619]\n",
            " [842.11255186 844.25937845 846.5835011  ... 844.1277643  844.07199602\n",
            "  843.94792483]\n",
            " [844.01024145 846.25300531 848.63150516 ... 844.98481311 844.82642398\n",
            "  844.60867352]]\n"
          ],
          "name": "stdout"
        }
      ]
    },
    {
      "cell_type": "code",
      "metadata": {
        "id": "2lNmIhwnnN3D",
        "colab_type": "code",
        "colab": {
          "base_uri": "https://localhost:8080/",
          "height": 345
        },
        "outputId": "27306687-7472-4d05-ba86-b9e82c2ba732"
      },
      "source": [
        "# Create a figure\n",
        "fig = plt.figure(figsize=(8, 8))\n",
        "# define a projection\n",
        "ax = plt.axes(projection=ccrs.PlateCarree())\n",
        "# define spatial domain to plot\n",
        "ax.set_xlim(minlong,maxlong)\n",
        "ax.set_ylim(minlat,maxlat)\n",
        "# define title\n",
        "ax.set_title(\"Head (ft above MSL)\")"
      ],
      "execution_count": 14,
      "outputs": [
        {
          "output_type": "execute_result",
          "data": {
            "text/plain": [
              "Text(0.5, 1.0, 'Head (ft above MSL)')"
            ]
          },
          "metadata": {
            "tags": []
          },
          "execution_count": 14
        },
        {
          "output_type": "display_data",
          "data": {
            "image/png": "[encoded data removed]",
            "text/plain": [
              "<Figure size 576x576 with 1 Axes>"
            ]
          },
          "metadata": {
            "tags": []
          }
        }
      ]
    }
  ]
}